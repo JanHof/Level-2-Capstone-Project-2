{
 "cells": [
  {
   "cell_type": "markdown",
   "metadata": {},
   "source": [
    "Exploratory data analysis (EDA) is a crucial component of data science which allows one to understand the basics of what your data looks like and what kinds of questions might be answered by them. For this task, we are going to clean, sanitise and explore our data. Using the movies dataset, answer the following questions by writing code in the cells.\n"
   ]
  },
  {
   "cell_type": "code",
   "execution_count": 2,
   "metadata": {},
   "outputs": [
    {
     "name": "stderr",
     "output_type": "stream",
     "text": [
      "UsageError: Line magic function `%` not found.\n"
     ]
    }
   ],
   "source": [
    "# Importing the required packages here\n",
    "\n",
    "import numpy as np\n",
    "import pandas as pd\n",
    "import seaborn as sns\n",
    "import ast, json\n",
    "\n",
    "from datetime import datetime\n",
    "import matplotlib.pyplot as plt\n",
    "% matplotlib inline\n"
   ]
  },
  {
   "cell_type": "code",
   "execution_count": 9,
   "metadata": {},
   "outputs": [
    {
     "name": "stdout",
     "output_type": "stream",
     "text": [
      "Index(['budget', 'genres', 'homepage', 'id', 'keywords', 'original_language',\n",
      "       'original_title', 'overview', 'popularity', 'production_companies',\n",
      "       'production_countries', 'release_date', 'revenue', 'runtime',\n",
      "       'spoken_languages', 'status', 'tagline', 'title', 'vote_average',\n",
      "       'vote_count'],\n",
      "      dtype='object')\n"
     ]
    }
   ],
   "source": [
    "#### load the movie dataset and create their dataframes\n",
    "\n",
    "movies_df = pd.read_csv(\"movies.csv\")\n",
    "movies_df = pd.DataFrame(movies_df)\n",
    "print(movies_df.columns)\n",
    "\n"
   ]
  },
  {
   "cell_type": "markdown",
   "metadata": {},
   "source": [
    "### Data Cleansing \n",
    "#### Clean the data. Identify columns that are redundant or unnecessary.\n",
    "\n",
    "It is always easier to make your decisions based on data which is relevant and concise. Remove the following columns ['keywords', 'homepage', 'status', 'tagline', 'original_language', 'homepage', 'overview', 'production_companies', 'original_title', 'title_y'] from the data set as they will not be used in the analysis."
   ]
  },
  {
   "cell_type": "code",
   "execution_count": 10,
   "metadata": {},
   "outputs": [
    {
     "data": {
      "text/html": [
       "<div>\n",
       "<style scoped>\n",
       "    .dataframe tbody tr th:only-of-type {\n",
       "        vertical-align: middle;\n",
       "    }\n",
       "\n",
       "    .dataframe tbody tr th {\n",
       "        vertical-align: top;\n",
       "    }\n",
       "\n",
       "    .dataframe thead th {\n",
       "        text-align: right;\n",
       "    }\n",
       "</style>\n",
       "<table border=\"1\" class=\"dataframe\">\n",
       "  <thead>\n",
       "    <tr style=\"text-align: right;\">\n",
       "      <th></th>\n",
       "      <th>budget</th>\n",
       "      <th>genres</th>\n",
       "      <th>id</th>\n",
       "      <th>popularity</th>\n",
       "      <th>production_countries</th>\n",
       "      <th>release_date</th>\n",
       "      <th>revenue</th>\n",
       "      <th>runtime</th>\n",
       "      <th>spoken_languages</th>\n",
       "      <th>title</th>\n",
       "      <th>vote_average</th>\n",
       "      <th>vote_count</th>\n",
       "    </tr>\n",
       "  </thead>\n",
       "  <tbody>\n",
       "    <tr>\n",
       "      <th>0</th>\n",
       "      <td>237000000</td>\n",
       "      <td>[{\"id\": 28, \"name\": \"Action\"}, {\"id\": 12, \"nam...</td>\n",
       "      <td>19995</td>\n",
       "      <td>150.437577</td>\n",
       "      <td>[{\"iso_3166_1\": \"US\", \"name\": \"United States o...</td>\n",
       "      <td>2009-12-10</td>\n",
       "      <td>2787965087</td>\n",
       "      <td>162.0</td>\n",
       "      <td>[{\"iso_639_1\": \"en\", \"name\": \"English\"}, {\"iso...</td>\n",
       "      <td>Avatar</td>\n",
       "      <td>7.2</td>\n",
       "      <td>11800</td>\n",
       "    </tr>\n",
       "    <tr>\n",
       "      <th>1</th>\n",
       "      <td>300000000</td>\n",
       "      <td>[{\"id\": 12, \"name\": \"Adventure\"}, {\"id\": 14, \"...</td>\n",
       "      <td>285</td>\n",
       "      <td>139.082615</td>\n",
       "      <td>[{\"iso_3166_1\": \"US\", \"name\": \"United States o...</td>\n",
       "      <td>2007-05-19</td>\n",
       "      <td>961000000</td>\n",
       "      <td>169.0</td>\n",
       "      <td>[{\"iso_639_1\": \"en\", \"name\": \"English\"}]</td>\n",
       "      <td>Pirates of the Caribbean: At World's End</td>\n",
       "      <td>6.9</td>\n",
       "      <td>4500</td>\n",
       "    </tr>\n",
       "    <tr>\n",
       "      <th>2</th>\n",
       "      <td>245000000</td>\n",
       "      <td>[{\"id\": 28, \"name\": \"Action\"}, {\"id\": 12, \"nam...</td>\n",
       "      <td>206647</td>\n",
       "      <td>107.376788</td>\n",
       "      <td>[{\"iso_3166_1\": \"GB\", \"name\": \"United Kingdom\"...</td>\n",
       "      <td>2015-10-26</td>\n",
       "      <td>880674609</td>\n",
       "      <td>148.0</td>\n",
       "      <td>[{\"iso_639_1\": \"fr\", \"name\": \"Fran\\u00e7ais\"},...</td>\n",
       "      <td>Spectre</td>\n",
       "      <td>6.3</td>\n",
       "      <td>4466</td>\n",
       "    </tr>\n",
       "    <tr>\n",
       "      <th>3</th>\n",
       "      <td>250000000</td>\n",
       "      <td>[{\"id\": 28, \"name\": \"Action\"}, {\"id\": 80, \"nam...</td>\n",
       "      <td>49026</td>\n",
       "      <td>112.312950</td>\n",
       "      <td>[{\"iso_3166_1\": \"US\", \"name\": \"United States o...</td>\n",
       "      <td>2012-07-16</td>\n",
       "      <td>1084939099</td>\n",
       "      <td>165.0</td>\n",
       "      <td>[{\"iso_639_1\": \"en\", \"name\": \"English\"}]</td>\n",
       "      <td>The Dark Knight Rises</td>\n",
       "      <td>7.6</td>\n",
       "      <td>9106</td>\n",
       "    </tr>\n",
       "    <tr>\n",
       "      <th>4</th>\n",
       "      <td>260000000</td>\n",
       "      <td>[{\"id\": 28, \"name\": \"Action\"}, {\"id\": 12, \"nam...</td>\n",
       "      <td>49529</td>\n",
       "      <td>43.926995</td>\n",
       "      <td>[{\"iso_3166_1\": \"US\", \"name\": \"United States o...</td>\n",
       "      <td>2012-03-07</td>\n",
       "      <td>284139100</td>\n",
       "      <td>132.0</td>\n",
       "      <td>[{\"iso_639_1\": \"en\", \"name\": \"English\"}]</td>\n",
       "      <td>John Carter</td>\n",
       "      <td>6.1</td>\n",
       "      <td>2124</td>\n",
       "    </tr>\n",
       "  </tbody>\n",
       "</table>\n",
       "</div>"
      ],
      "text/plain": [
       "      budget                                             genres      id  \\\n",
       "0  237000000  [{\"id\": 28, \"name\": \"Action\"}, {\"id\": 12, \"nam...   19995   \n",
       "1  300000000  [{\"id\": 12, \"name\": \"Adventure\"}, {\"id\": 14, \"...     285   \n",
       "2  245000000  [{\"id\": 28, \"name\": \"Action\"}, {\"id\": 12, \"nam...  206647   \n",
       "3  250000000  [{\"id\": 28, \"name\": \"Action\"}, {\"id\": 80, \"nam...   49026   \n",
       "4  260000000  [{\"id\": 28, \"name\": \"Action\"}, {\"id\": 12, \"nam...   49529   \n",
       "\n",
       "   popularity                               production_countries release_date  \\\n",
       "0  150.437577  [{\"iso_3166_1\": \"US\", \"name\": \"United States o...   2009-12-10   \n",
       "1  139.082615  [{\"iso_3166_1\": \"US\", \"name\": \"United States o...   2007-05-19   \n",
       "2  107.376788  [{\"iso_3166_1\": \"GB\", \"name\": \"United Kingdom\"...   2015-10-26   \n",
       "3  112.312950  [{\"iso_3166_1\": \"US\", \"name\": \"United States o...   2012-07-16   \n",
       "4   43.926995  [{\"iso_3166_1\": \"US\", \"name\": \"United States o...   2012-03-07   \n",
       "\n",
       "      revenue  runtime                                   spoken_languages  \\\n",
       "0  2787965087    162.0  [{\"iso_639_1\": \"en\", \"name\": \"English\"}, {\"iso...   \n",
       "1   961000000    169.0           [{\"iso_639_1\": \"en\", \"name\": \"English\"}]   \n",
       "2   880674609    148.0  [{\"iso_639_1\": \"fr\", \"name\": \"Fran\\u00e7ais\"},...   \n",
       "3  1084939099    165.0           [{\"iso_639_1\": \"en\", \"name\": \"English\"}]   \n",
       "4   284139100    132.0           [{\"iso_639_1\": \"en\", \"name\": \"English\"}]   \n",
       "\n",
       "                                      title  vote_average  vote_count  \n",
       "0                                    Avatar           7.2       11800  \n",
       "1  Pirates of the Caribbean: At World's End           6.9        4500  \n",
       "2                                   Spectre           6.3        4466  \n",
       "3                     The Dark Knight Rises           7.6        9106  \n",
       "4                               John Carter           6.1        2124  "
      ]
     },
     "execution_count": 10,
     "metadata": {},
     "output_type": "execute_result"
    }
   ],
   "source": [
    "# code here\n",
    "movies_df = movies_df.drop( ['keywords', 'homepage', 'status', 'tagline', 'original_language', 'homepage', 'overview', 'production_companies', 'original_title'], axis=1)\n",
    "movies_df.head()"
   ]
  },
  {
   "cell_type": "markdown",
   "metadata": {},
   "source": [
    "#### Remove any duplicate rows"
   ]
  },
  {
   "cell_type": "code",
   "execution_count": 11,
   "metadata": {},
   "outputs": [
    {
     "data": {
      "text/plain": [
       "(4803, 12)"
      ]
     },
     "execution_count": 11,
     "metadata": {},
     "output_type": "execute_result"
    }
   ],
   "source": [
    "movies_df.shape"
   ]
  },
  {
   "cell_type": "code",
   "execution_count": 12,
   "metadata": {},
   "outputs": [
    {
     "data": {
      "text/plain": [
       "(3628, 12)"
      ]
     },
     "execution_count": 12,
     "metadata": {},
     "output_type": "execute_result"
    }
   ],
   "source": [
    "# code here\n",
    "movies_df = movies_df[movies_df[\"genres\"].duplicated()]\n",
    "movies_df.shape\n",
    "#movies_df\n",
    "#movies_df.drop_duplicates()\n",
    "#movies_df.head()"
   ]
  },
  {
   "cell_type": "markdown",
   "metadata": {},
   "source": [
    "#### Some movies in the database have zero budget or zero revenue which implies that their values have not been recorded or some information is missing. Discard such entries from the dataframe."
   ]
  },
  {
   "cell_type": "code",
   "execution_count": 13,
   "metadata": {},
   "outputs": [
    {
     "data": {
      "text/plain": [
       "(2765, 12)"
      ]
     },
     "execution_count": 13,
     "metadata": {},
     "output_type": "execute_result"
    }
   ],
   "source": [
    "# Code here\n",
    "budget_index = movies_df[movies_df['budget'] == 0 ].index\n",
    "movies_df.drop(budget_index , inplace = True)\n",
    "movies_df.shape\n"
   ]
  },
  {
   "cell_type": "code",
   "execution_count": 14,
   "metadata": {},
   "outputs": [
    {
     "data": {
      "text/plain": [
       "(2337, 12)"
      ]
     },
     "execution_count": 14,
     "metadata": {},
     "output_type": "execute_result"
    }
   ],
   "source": [
    "revenue_index = movies_df[movies_df['revenue'] == 0 ].index\n",
    "movies_df.drop(revenue_index , inplace = True)\n",
    "movies_df.shape\n"
   ]
  },
  {
   "cell_type": "markdown",
   "metadata": {},
   "source": [
    "#### To manipulate the columns easily, it is important that we make use of the python objects. Change the release date column into Date format and extract the year from the date. This will help us in analysing yearly data."
   ]
  },
  {
   "cell_type": "code",
   "execution_count": 15,
   "metadata": {},
   "outputs": [
    {
     "data": {
      "text/plain": [
       "7     2015\n",
       "12    2006\n",
       "14    2013\n",
       "19    2014\n",
       "20    2012\n",
       "Name: Year, dtype: int64"
      ]
     },
     "execution_count": 15,
     "metadata": {},
     "output_type": "execute_result"
    }
   ],
   "source": [
    "# Change the release_date column to DateTime column\n",
    "movies_df['release_date'] = pd.to_datetime(movies_df['release_date'])\n",
    "#movies_df.rename(columns={\"release_date\":\"DateTime\"})\n",
    "\n",
    "\n",
    "# Extract the release year from every release date\n",
    "movies_df['Year'] = movies_df['release_date'].dt.year\n",
    "movies_df['Year'].head()\n"
   ]
  },
  {
   "cell_type": "markdown",
   "metadata": {},
   "source": [
    "#### Change budget and revenue columns format to integer using numpy’s int64 method."
   ]
  },
  {
   "cell_type": "code",
   "execution_count": 16,
   "metadata": {},
   "outputs": [
    {
     "name": "stdout",
     "output_type": "stream",
     "text": [
      "budget                           int32\n",
      "genres                          object\n",
      "id                               int64\n",
      "popularity                     float64\n",
      "production_countries            object\n",
      "release_date            datetime64[ns]\n",
      "revenue                          int32\n",
      "runtime                        float64\n",
      "spoken_languages                object\n",
      "title                           object\n",
      "vote_average                   float64\n",
      "vote_count                       int64\n",
      "Year                             int64\n",
      "dtype: object\n"
     ]
    }
   ],
   "source": [
    "# code here\n",
    "import numpy as np    \n",
    "#movies_df[\"budget\"] = movies_df[\"budget\"].astype(str)\n",
    "movies_df[\"budget\"] = movies_df[\"budget\"].astype(str).astype(int)\n",
    "movies_df[\"revenue\"] = movies_df[\"revenue\"].astype(str).astype(int)\n",
    "print(movies_df.dtypes)"
   ]
  },
  {
   "cell_type": "markdown",
   "metadata": {},
   "source": [
    "On checking the dataset, we see that genres, keywords, production_companies, production_countries, spoken_languages are in the JSON format which will make it difficult to manipulate the dataframe. Now let’s flatten these columns into a format that can be easily interpreted.\n",
    "\n",
    "I will help you convert them into strings and later convert them into lists. Writing a generic function to parse JSON columns."
   ]
  },
  {
   "cell_type": "code",
   "execution_count": 17,
   "metadata": {},
   "outputs": [
    {
     "data": {
      "text/html": [
       "<div>\n",
       "<style scoped>\n",
       "    .dataframe tbody tr th:only-of-type {\n",
       "        vertical-align: middle;\n",
       "    }\n",
       "\n",
       "    .dataframe tbody tr th {\n",
       "        vertical-align: top;\n",
       "    }\n",
       "\n",
       "    .dataframe thead th {\n",
       "        text-align: right;\n",
       "    }\n",
       "</style>\n",
       "<table border=\"1\" class=\"dataframe\">\n",
       "  <thead>\n",
       "    <tr style=\"text-align: right;\">\n",
       "      <th></th>\n",
       "      <th>budget</th>\n",
       "      <th>genres</th>\n",
       "      <th>id</th>\n",
       "      <th>popularity</th>\n",
       "      <th>production_countries</th>\n",
       "      <th>release_date</th>\n",
       "      <th>revenue</th>\n",
       "      <th>runtime</th>\n",
       "      <th>spoken_languages</th>\n",
       "      <th>title</th>\n",
       "      <th>vote_average</th>\n",
       "      <th>vote_count</th>\n",
       "      <th>Year</th>\n",
       "    </tr>\n",
       "  </thead>\n",
       "  <tbody>\n",
       "    <tr>\n",
       "      <th>7</th>\n",
       "      <td>280000000</td>\n",
       "      <td>['Action', 'Adventure', 'Science Fiction']</td>\n",
       "      <td>99861</td>\n",
       "      <td>134.279229</td>\n",
       "      <td>['United States of America']</td>\n",
       "      <td>2015-04-22</td>\n",
       "      <td>1405403694</td>\n",
       "      <td>141.0</td>\n",
       "      <td>['English']</td>\n",
       "      <td>Avengers: Age of Ultron</td>\n",
       "      <td>7.3</td>\n",
       "      <td>6767</td>\n",
       "      <td>2015</td>\n",
       "    </tr>\n",
       "    <tr>\n",
       "      <th>12</th>\n",
       "      <td>200000000</td>\n",
       "      <td>['Adventure', 'Fantasy', 'Action']</td>\n",
       "      <td>58</td>\n",
       "      <td>145.847379</td>\n",
       "      <td>['Jamaica', 'United States of America', 'Baham...</td>\n",
       "      <td>2006-06-20</td>\n",
       "      <td>1065659812</td>\n",
       "      <td>151.0</td>\n",
       "      <td>['English', 'Türkçe', 'ελληνικά', '普通话']</td>\n",
       "      <td>Pirates of the Caribbean: Dead Man's Chest</td>\n",
       "      <td>7.0</td>\n",
       "      <td>5246</td>\n",
       "      <td>2006</td>\n",
       "    </tr>\n",
       "    <tr>\n",
       "      <th>14</th>\n",
       "      <td>225000000</td>\n",
       "      <td>['Action', 'Adventure', 'Fantasy', 'Science Fi...</td>\n",
       "      <td>49521</td>\n",
       "      <td>99.398009</td>\n",
       "      <td>['United Kingdom', 'United States of America']</td>\n",
       "      <td>2013-06-12</td>\n",
       "      <td>662845518</td>\n",
       "      <td>143.0</td>\n",
       "      <td>['English']</td>\n",
       "      <td>Man of Steel</td>\n",
       "      <td>6.5</td>\n",
       "      <td>6359</td>\n",
       "      <td>2013</td>\n",
       "    </tr>\n",
       "    <tr>\n",
       "      <th>19</th>\n",
       "      <td>250000000</td>\n",
       "      <td>['Action', 'Adventure', 'Fantasy']</td>\n",
       "      <td>122917</td>\n",
       "      <td>120.965743</td>\n",
       "      <td>['New Zealand', 'United States of America']</td>\n",
       "      <td>2014-12-10</td>\n",
       "      <td>956019788</td>\n",
       "      <td>144.0</td>\n",
       "      <td>['English']</td>\n",
       "      <td>The Hobbit: The Battle of the Five Armies</td>\n",
       "      <td>7.1</td>\n",
       "      <td>4760</td>\n",
       "      <td>2014</td>\n",
       "    </tr>\n",
       "    <tr>\n",
       "      <th>20</th>\n",
       "      <td>215000000</td>\n",
       "      <td>['Action', 'Adventure', 'Fantasy']</td>\n",
       "      <td>1930</td>\n",
       "      <td>89.866276</td>\n",
       "      <td>['United States of America']</td>\n",
       "      <td>2012-06-27</td>\n",
       "      <td>752215857</td>\n",
       "      <td>136.0</td>\n",
       "      <td>['English']</td>\n",
       "      <td>The Amazing Spider-Man</td>\n",
       "      <td>6.5</td>\n",
       "      <td>6586</td>\n",
       "      <td>2012</td>\n",
       "    </tr>\n",
       "  </tbody>\n",
       "</table>\n",
       "</div>"
      ],
      "text/plain": [
       "       budget                                             genres      id  \\\n",
       "7   280000000         ['Action', 'Adventure', 'Science Fiction']   99861   \n",
       "12  200000000                 ['Adventure', 'Fantasy', 'Action']      58   \n",
       "14  225000000  ['Action', 'Adventure', 'Fantasy', 'Science Fi...   49521   \n",
       "19  250000000                 ['Action', 'Adventure', 'Fantasy']  122917   \n",
       "20  215000000                 ['Action', 'Adventure', 'Fantasy']    1930   \n",
       "\n",
       "    popularity                               production_countries  \\\n",
       "7   134.279229                       ['United States of America']   \n",
       "12  145.847379  ['Jamaica', 'United States of America', 'Baham...   \n",
       "14   99.398009     ['United Kingdom', 'United States of America']   \n",
       "19  120.965743        ['New Zealand', 'United States of America']   \n",
       "20   89.866276                       ['United States of America']   \n",
       "\n",
       "   release_date     revenue  runtime  \\\n",
       "7    2015-04-22  1405403694    141.0   \n",
       "12   2006-06-20  1065659812    151.0   \n",
       "14   2013-06-12   662845518    143.0   \n",
       "19   2014-12-10   956019788    144.0   \n",
       "20   2012-06-27   752215857    136.0   \n",
       "\n",
       "                            spoken_languages  \\\n",
       "7                                ['English']   \n",
       "12  ['English', 'Türkçe', 'ελληνικά', '普通话']   \n",
       "14                               ['English']   \n",
       "19                               ['English']   \n",
       "20                               ['English']   \n",
       "\n",
       "                                         title  vote_average  vote_count  Year  \n",
       "7                      Avengers: Age of Ultron           7.3        6767  2015  \n",
       "12  Pirates of the Caribbean: Dead Man's Chest           7.0        5246  2006  \n",
       "14                                Man of Steel           6.5        6359  2013  \n",
       "19   The Hobbit: The Battle of the Five Armies           7.1        4760  2014  \n",
       "20                      The Amazing Spider-Man           6.5        6586  2012  "
      ]
     },
     "execution_count": 17,
     "metadata": {},
     "output_type": "execute_result"
    }
   ],
   "source": [
    "def parse_col_json(column, key):\n",
    "    \"\"\"\n",
    "    Args:\n",
    "        column: string\n",
    "            name of the column to be processed.\n",
    "        key: string\n",
    "            name of the dictionary key which needs to be extracted\n",
    "    \"\"\"\n",
    "    for index,i in zip(movies_df.index,movies_df[column].apply(json.loads)):\n",
    "        list1=[]\n",
    "        for j in range(len(i)):\n",
    "            list1.append((i[j][key]))# the key 'name' contains the name of the genre\n",
    "        movies_df.loc[index,column]=str(list1)\n",
    "    \n",
    "parse_col_json('genres', 'name')\n",
    "parse_col_json('spoken_languages', 'name')\n",
    "#parse_col_json('cast', 'name')\n",
    "parse_col_json('production_countries', 'name')\n",
    "\n",
    "movies_df.head()"
   ]
  },
  {
   "cell_type": "markdown",
   "metadata": {},
   "source": [
    "### Now onto the exploration\n",
    "\n",
    "#### Identify relationships between variables / features\n",
    "\n",
    "The main goal here is to identify and create relationships which can help you to build ideas. I have defined questions which can help you identify some relationships to explore."
   ]
  },
  {
   "cell_type": "markdown",
   "metadata": {},
   "source": [
    "#### Which are the 5 most expensive movies? How do the most expensive and cheapest movies compare? Exploring the most expensive movies help you explore if some movies are worth the money spent on them based on their performance and revenue generated."
   ]
  },
  {
   "cell_type": "code",
   "execution_count": 11,
   "metadata": {},
   "outputs": [
    {
     "data": {
      "text/plain": [
       "Text(0, 0.5, 'Title')"
      ]
     },
     "execution_count": 11,
     "metadata": {},
     "output_type": "execute_result"
    },
    {
     "data": {
      "image/png": "[encoded data removed]",
      "text/plain": [
       "<Figure size 576x360 with 1 Axes>"
      ]
     },
     "metadata": {
      "needs_background": "light"
     },
     "output_type": "display_data"
    }
   ],
   "source": [
    "# Code here\n",
    "group_by_Title = movies_df.groupby(by=['title'])\n",
    "\n",
    "title_df = round(group_by_Title.mean(),0)\n",
    "\n",
    "bugdet_df = title_df.sort_values(by='budget', ascending=False)\n",
    "\n",
    "# We will assemble a DataFrame of only the relevant features to plot  \n",
    "features_of_interest = pd.DataFrame({'Budget': bugdet_df['budget'],\n",
    "                                     'Revenue': bugdet_df['revenue'],})\n",
    "\n",
    "## Let us plot a few of the manufactures for visibility\n",
    "features_of_interest = features_of_interest.iloc[:5]\n",
    "features_of_interest.plot(kind='barh', figsize=(8, 5))\n",
    "\n",
    "plt.xlabel('Billion', fontsize=12)\n",
    "plt.ylabel('Title', fontsize=12)\n"
   ]
  },
  {
   "cell_type": "markdown",
   "metadata": {},
   "source": [
    "#### What are the top 5 most profitable movies? Compare the min and max profits. The comparison helps us indentify the different approaches which failed and succeeded. Subtracting the budget from the revenue generated, will return the profit earned."
   ]
  },
  {
   "cell_type": "code",
   "execution_count": 12,
   "metadata": {},
   "outputs": [
    {
     "data": {
      "text/plain": [
       "Text(0, 0.5, 'Billion')"
      ]
     },
     "execution_count": 12,
     "metadata": {},
     "output_type": "execute_result"
    },
    {
     "data": {
      "image/png": "[encoded data removed]",
      "text/plain": [
       "<Figure size 576x360 with 1 Axes>"
      ]
     },
     "metadata": {
      "needs_background": "light"
     },
     "output_type": "display_data"
    }
   ],
   "source": [
    "# code here\n",
    "#movies_df['profit'] = movies_df['revenue']- movies_df['budget']\n",
    "\n",
    "group_by_Title2 = movies_df.groupby(by=['title'])\n",
    "\n",
    "profit_df = round(group_by_Title2.mean(),0)\n",
    "\n",
    "sum_column = profit_df[\"revenue\"] - profit_df[\"budget\"]\n",
    "profit_df[\"profit\"] = sum_column\n",
    "\n",
    "profit_df = profit_df.sort_values(by='profit', ascending=False)\n",
    "\n",
    "# We will assemble a DataFrame of only the relevant features to plot  \n",
    "new_features = pd.DataFrame({'Budget': profit_df['budget'],\n",
    "                             'Revenue': profit_df['revenue'],\n",
    "                             'Profit': profit_df['profit']})\n",
    "\n",
    "## Let us plot a few of the manufactures for visibility\n",
    "new_features = new_features.iloc[:5]\n",
    "new_features.plot(kind='bar', figsize=(8, 5))\n",
    "\n",
    "plt.xlabel('Title', fontsize=12)\n",
    "plt.ylabel('Billion', fontsize=12)\n",
    "\n",
    "#movies_df.sort_values(by='profit',ascending=False).head()\n",
    "\n",
    "\n",
    "\n"
   ]
  },
  {
   "cell_type": "code",
   "execution_count": 15,
   "metadata": {},
   "outputs": [
    {
     "data": {
      "text/html": [
       "<div>\n",
       "<style scoped>\n",
       "    .dataframe tbody tr th:only-of-type {\n",
       "        vertical-align: middle;\n",
       "    }\n",
       "\n",
       "    .dataframe tbody tr th {\n",
       "        vertical-align: top;\n",
       "    }\n",
       "\n",
       "    .dataframe thead th {\n",
       "        text-align: right;\n",
       "    }\n",
       "</style>\n",
       "<table border=\"1\" class=\"dataframe\">\n",
       "  <thead>\n",
       "    <tr style=\"text-align: right;\">\n",
       "      <th></th>\n",
       "      <th>budget</th>\n",
       "      <th>id</th>\n",
       "      <th>popularity</th>\n",
       "      <th>revenue</th>\n",
       "      <th>runtime</th>\n",
       "      <th>vote_average</th>\n",
       "      <th>vote_count</th>\n",
       "      <th>Year</th>\n",
       "      <th>profit</th>\n",
       "    </tr>\n",
       "    <tr>\n",
       "      <th>title</th>\n",
       "      <th></th>\n",
       "      <th></th>\n",
       "      <th></th>\n",
       "      <th></th>\n",
       "      <th></th>\n",
       "      <th></th>\n",
       "      <th></th>\n",
       "      <th></th>\n",
       "      <th></th>\n",
       "    </tr>\n",
       "  </thead>\n",
       "  <tbody>\n",
       "    <tr>\n",
       "      <th>Mars Needs Moms</th>\n",
       "      <td>150000000.0</td>\n",
       "      <td>50321.0</td>\n",
       "      <td>12.0</td>\n",
       "      <td>38992758.0</td>\n",
       "      <td>88.0</td>\n",
       "      <td>6.0</td>\n",
       "      <td>199.0</td>\n",
       "      <td>2011.0</td>\n",
       "      <td>-111007242.0</td>\n",
       "    </tr>\n",
       "    <tr>\n",
       "      <th>The 13th Warrior</th>\n",
       "      <td>160000000.0</td>\n",
       "      <td>1911.0</td>\n",
       "      <td>27.0</td>\n",
       "      <td>61698899.0</td>\n",
       "      <td>102.0</td>\n",
       "      <td>6.0</td>\n",
       "      <td>510.0</td>\n",
       "      <td>1999.0</td>\n",
       "      <td>-98301101.0</td>\n",
       "    </tr>\n",
       "    <tr>\n",
       "      <th>The Adventures of Pluto Nash</th>\n",
       "      <td>100000000.0</td>\n",
       "      <td>11692.0</td>\n",
       "      <td>12.0</td>\n",
       "      <td>7103973.0</td>\n",
       "      <td>95.0</td>\n",
       "      <td>4.0</td>\n",
       "      <td>142.0</td>\n",
       "      <td>2002.0</td>\n",
       "      <td>-92896027.0</td>\n",
       "    </tr>\n",
       "    <tr>\n",
       "      <th>Metropolis</th>\n",
       "      <td>92620000.0</td>\n",
       "      <td>19.0</td>\n",
       "      <td>32.0</td>\n",
       "      <td>650422.0</td>\n",
       "      <td>153.0</td>\n",
       "      <td>8.0</td>\n",
       "      <td>657.0</td>\n",
       "      <td>1927.0</td>\n",
       "      <td>-91969578.0</td>\n",
       "    </tr>\n",
       "    <tr>\n",
       "      <th>Cutthroat Island</th>\n",
       "      <td>98000000.0</td>\n",
       "      <td>1408.0</td>\n",
       "      <td>7.0</td>\n",
       "      <td>10017322.0</td>\n",
       "      <td>119.0</td>\n",
       "      <td>6.0</td>\n",
       "      <td>136.0</td>\n",
       "      <td>1995.0</td>\n",
       "      <td>-87982678.0</td>\n",
       "    </tr>\n",
       "  </tbody>\n",
       "</table>\n",
       "</div>"
      ],
      "text/plain": [
       "                                   budget       id  popularity     revenue  \\\n",
       "title                                                                        \n",
       "Mars Needs Moms               150000000.0  50321.0        12.0  38992758.0   \n",
       "The 13th Warrior              160000000.0   1911.0        27.0  61698899.0   \n",
       "The Adventures of Pluto Nash  100000000.0  11692.0        12.0   7103973.0   \n",
       "Metropolis                     92620000.0     19.0        32.0    650422.0   \n",
       "Cutthroat Island               98000000.0   1408.0         7.0  10017322.0   \n",
       "\n",
       "                              runtime  vote_average  vote_count    Year  \\\n",
       "title                                                                     \n",
       "Mars Needs Moms                  88.0           6.0       199.0  2011.0   \n",
       "The 13th Warrior                102.0           6.0       510.0  1999.0   \n",
       "The Adventures of Pluto Nash     95.0           4.0       142.0  2002.0   \n",
       "Metropolis                      153.0           8.0       657.0  1927.0   \n",
       "Cutthroat Island                119.0           6.0       136.0  1995.0   \n",
       "\n",
       "                                   profit  \n",
       "title                                      \n",
       "Mars Needs Moms              -111007242.0  \n",
       "The 13th Warrior              -98301101.0  \n",
       "The Adventures of Pluto Nash  -92896027.0  \n",
       "Metropolis                    -91969578.0  \n",
       "Cutthroat Island              -87982678.0  "
      ]
     },
     "execution_count": 15,
     "metadata": {},
     "output_type": "execute_result"
    }
   ],
   "source": [
    "profit_df.sort_values(by='profit',ascending=True).head()"
   ]
  },
  {
   "cell_type": "code",
   "execution_count": null,
   "metadata": {},
   "outputs": [],
   "source": []
  },
  {
   "cell_type": "markdown",
   "metadata": {},
   "source": [
    "#### Find the most talked about movies. Sort the dataframe based on the popularity column."
   ]
  },
  {
   "cell_type": "code",
   "execution_count": 26,
   "metadata": {},
   "outputs": [
    {
     "data": {
      "text/html": [
       "<div>\n",
       "<style scoped>\n",
       "    .dataframe tbody tr th:only-of-type {\n",
       "        vertical-align: middle;\n",
       "    }\n",
       "\n",
       "    .dataframe tbody tr th {\n",
       "        vertical-align: top;\n",
       "    }\n",
       "\n",
       "    .dataframe thead th {\n",
       "        text-align: right;\n",
       "    }\n",
       "</style>\n",
       "<table border=\"1\" class=\"dataframe\">\n",
       "  <thead>\n",
       "    <tr style=\"text-align: right;\">\n",
       "      <th></th>\n",
       "      <th>budget</th>\n",
       "      <th>genres</th>\n",
       "      <th>id</th>\n",
       "      <th>popularity</th>\n",
       "      <th>production_countries</th>\n",
       "      <th>release_date</th>\n",
       "      <th>revenue</th>\n",
       "      <th>runtime</th>\n",
       "      <th>spoken_languages</th>\n",
       "      <th>title</th>\n",
       "      <th>vote_average</th>\n",
       "      <th>vote_count</th>\n",
       "      <th>Year</th>\n",
       "    </tr>\n",
       "  </thead>\n",
       "  <tbody>\n",
       "    <tr>\n",
       "      <th>546</th>\n",
       "      <td>74000000</td>\n",
       "      <td>['Family', 'Animation', 'Adventure', 'Comedy']</td>\n",
       "      <td>211672</td>\n",
       "      <td>875.581305</td>\n",
       "      <td>['United States of America']</td>\n",
       "      <td>2015-06-17</td>\n",
       "      <td>1156730962</td>\n",
       "      <td>91.0</td>\n",
       "      <td>['English']</td>\n",
       "      <td>Minions</td>\n",
       "      <td>6.4</td>\n",
       "      <td>4571</td>\n",
       "      <td>2015</td>\n",
       "    </tr>\n",
       "    <tr>\n",
       "      <th>788</th>\n",
       "      <td>58000000</td>\n",
       "      <td>['Action', 'Adventure', 'Comedy']</td>\n",
       "      <td>293660</td>\n",
       "      <td>514.569956</td>\n",
       "      <td>['United States of America']</td>\n",
       "      <td>2016-02-09</td>\n",
       "      <td>783112979</td>\n",
       "      <td>108.0</td>\n",
       "      <td>['English']</td>\n",
       "      <td>Deadpool</td>\n",
       "      <td>7.4</td>\n",
       "      <td>10995</td>\n",
       "      <td>2016</td>\n",
       "    </tr>\n",
       "    <tr>\n",
       "      <th>94</th>\n",
       "      <td>170000000</td>\n",
       "      <td>['Action', 'Science Fiction', 'Adventure']</td>\n",
       "      <td>118340</td>\n",
       "      <td>481.098624</td>\n",
       "      <td>['United Kingdom', 'United States of America']</td>\n",
       "      <td>2014-07-30</td>\n",
       "      <td>773328629</td>\n",
       "      <td>121.0</td>\n",
       "      <td>['English']</td>\n",
       "      <td>Guardians of the Galaxy</td>\n",
       "      <td>7.9</td>\n",
       "      <td>9742</td>\n",
       "      <td>2014</td>\n",
       "    </tr>\n",
       "    <tr>\n",
       "      <th>127</th>\n",
       "      <td>150000000</td>\n",
       "      <td>['Action', 'Adventure', 'Science Fiction', 'Th...</td>\n",
       "      <td>76341</td>\n",
       "      <td>434.278564</td>\n",
       "      <td>['Australia', 'United States of America']</td>\n",
       "      <td>2015-05-13</td>\n",
       "      <td>378858340</td>\n",
       "      <td>120.0</td>\n",
       "      <td>['English']</td>\n",
       "      <td>Mad Max: Fury Road</td>\n",
       "      <td>7.2</td>\n",
       "      <td>9427</td>\n",
       "      <td>2015</td>\n",
       "    </tr>\n",
       "    <tr>\n",
       "      <th>199</th>\n",
       "      <td>140000000</td>\n",
       "      <td>['Adventure', 'Fantasy', 'Action']</td>\n",
       "      <td>22</td>\n",
       "      <td>271.972889</td>\n",
       "      <td>['United States of America']</td>\n",
       "      <td>2003-07-09</td>\n",
       "      <td>655011224</td>\n",
       "      <td>143.0</td>\n",
       "      <td>['English']</td>\n",
       "      <td>Pirates of the Caribbean: The Curse of the Bla...</td>\n",
       "      <td>7.5</td>\n",
       "      <td>6985</td>\n",
       "      <td>2003</td>\n",
       "    </tr>\n",
       "  </tbody>\n",
       "</table>\n",
       "</div>"
      ],
      "text/plain": [
       "        budget                                             genres      id  \\\n",
       "546   74000000     ['Family', 'Animation', 'Adventure', 'Comedy']  211672   \n",
       "788   58000000                  ['Action', 'Adventure', 'Comedy']  293660   \n",
       "94   170000000         ['Action', 'Science Fiction', 'Adventure']  118340   \n",
       "127  150000000  ['Action', 'Adventure', 'Science Fiction', 'Th...   76341   \n",
       "199  140000000                 ['Adventure', 'Fantasy', 'Action']      22   \n",
       "\n",
       "     popularity                            production_countries release_date  \\\n",
       "546  875.581305                    ['United States of America']   2015-06-17   \n",
       "788  514.569956                    ['United States of America']   2016-02-09   \n",
       "94   481.098624  ['United Kingdom', 'United States of America']   2014-07-30   \n",
       "127  434.278564       ['Australia', 'United States of America']   2015-05-13   \n",
       "199  271.972889                    ['United States of America']   2003-07-09   \n",
       "\n",
       "        revenue  runtime spoken_languages  \\\n",
       "546  1156730962     91.0      ['English']   \n",
       "788   783112979    108.0      ['English']   \n",
       "94    773328629    121.0      ['English']   \n",
       "127   378858340    120.0      ['English']   \n",
       "199   655011224    143.0      ['English']   \n",
       "\n",
       "                                                 title  vote_average  \\\n",
       "546                                            Minions           6.4   \n",
       "788                                           Deadpool           7.4   \n",
       "94                             Guardians of the Galaxy           7.9   \n",
       "127                                 Mad Max: Fury Road           7.2   \n",
       "199  Pirates of the Caribbean: The Curse of the Bla...           7.5   \n",
       "\n",
       "     vote_count  Year  \n",
       "546        4571  2015  \n",
       "788       10995  2016  \n",
       "94         9742  2014  \n",
       "127        9427  2015  \n",
       "199        6985  2003  "
      ]
     },
     "execution_count": 26,
     "metadata": {},
     "output_type": "execute_result"
    }
   ],
   "source": [
    "movies_df.sort_values(by='popularity',ascending=False).head()"
   ]
  },
  {
   "cell_type": "markdown",
   "metadata": {},
   "source": [
    "#### Find Movies which are rated above 7\n",
    "\n"
   ]
  },
  {
   "cell_type": "code",
   "execution_count": 14,
   "metadata": {},
   "outputs": [
    {
     "data": {
      "text/html": [
       "<div>\n",
       "<style scoped>\n",
       "    .dataframe tbody tr th:only-of-type {\n",
       "        vertical-align: middle;\n",
       "    }\n",
       "\n",
       "    .dataframe tbody tr th {\n",
       "        vertical-align: top;\n",
       "    }\n",
       "\n",
       "    .dataframe thead th {\n",
       "        text-align: right;\n",
       "    }\n",
       "</style>\n",
       "<table border=\"1\" class=\"dataframe\">\n",
       "  <thead>\n",
       "    <tr style=\"text-align: right;\">\n",
       "      <th></th>\n",
       "      <th>budget</th>\n",
       "      <th>genres</th>\n",
       "      <th>id</th>\n",
       "      <th>popularity</th>\n",
       "      <th>production_countries</th>\n",
       "      <th>release_date</th>\n",
       "      <th>revenue</th>\n",
       "      <th>runtime</th>\n",
       "      <th>spoken_languages</th>\n",
       "      <th>title</th>\n",
       "      <th>vote_average</th>\n",
       "      <th>vote_count</th>\n",
       "      <th>Year</th>\n",
       "    </tr>\n",
       "  </thead>\n",
       "  <tbody>\n",
       "    <tr>\n",
       "      <th>546</th>\n",
       "      <td>74000000</td>\n",
       "      <td>['Family', 'Animation', 'Adventure', 'Comedy']</td>\n",
       "      <td>211672</td>\n",
       "      <td>875.581305</td>\n",
       "      <td>['United States of America']</td>\n",
       "      <td>2015-06-17</td>\n",
       "      <td>1156730962</td>\n",
       "      <td>91.0</td>\n",
       "      <td>['English']</td>\n",
       "      <td>Minions</td>\n",
       "      <td>6.4</td>\n",
       "      <td>4571</td>\n",
       "      <td>2015</td>\n",
       "    </tr>\n",
       "    <tr>\n",
       "      <th>788</th>\n",
       "      <td>58000000</td>\n",
       "      <td>['Action', 'Adventure', 'Comedy']</td>\n",
       "      <td>293660</td>\n",
       "      <td>514.569956</td>\n",
       "      <td>['United States of America']</td>\n",
       "      <td>2016-02-09</td>\n",
       "      <td>783112979</td>\n",
       "      <td>108.0</td>\n",
       "      <td>['English']</td>\n",
       "      <td>Deadpool</td>\n",
       "      <td>7.4</td>\n",
       "      <td>10995</td>\n",
       "      <td>2016</td>\n",
       "    </tr>\n",
       "    <tr>\n",
       "      <th>94</th>\n",
       "      <td>170000000</td>\n",
       "      <td>['Action', 'Science Fiction', 'Adventure']</td>\n",
       "      <td>118340</td>\n",
       "      <td>481.098624</td>\n",
       "      <td>['United Kingdom', 'United States of America']</td>\n",
       "      <td>2014-07-30</td>\n",
       "      <td>773328629</td>\n",
       "      <td>121.0</td>\n",
       "      <td>['English']</td>\n",
       "      <td>Guardians of the Galaxy</td>\n",
       "      <td>7.9</td>\n",
       "      <td>9742</td>\n",
       "      <td>2014</td>\n",
       "    </tr>\n",
       "    <tr>\n",
       "      <th>127</th>\n",
       "      <td>150000000</td>\n",
       "      <td>['Action', 'Adventure', 'Science Fiction', 'Th...</td>\n",
       "      <td>76341</td>\n",
       "      <td>434.278564</td>\n",
       "      <td>['Australia', 'United States of America']</td>\n",
       "      <td>2015-05-13</td>\n",
       "      <td>378858340</td>\n",
       "      <td>120.0</td>\n",
       "      <td>['English']</td>\n",
       "      <td>Mad Max: Fury Road</td>\n",
       "      <td>7.2</td>\n",
       "      <td>9427</td>\n",
       "      <td>2015</td>\n",
       "    </tr>\n",
       "    <tr>\n",
       "      <th>199</th>\n",
       "      <td>140000000</td>\n",
       "      <td>['Adventure', 'Fantasy', 'Action']</td>\n",
       "      <td>22</td>\n",
       "      <td>271.972889</td>\n",
       "      <td>['United States of America']</td>\n",
       "      <td>2003-07-09</td>\n",
       "      <td>655011224</td>\n",
       "      <td>143.0</td>\n",
       "      <td>['English']</td>\n",
       "      <td>Pirates of the Caribbean: The Curse of the Bla...</td>\n",
       "      <td>7.5</td>\n",
       "      <td>6985</td>\n",
       "      <td>2003</td>\n",
       "    </tr>\n",
       "  </tbody>\n",
       "</table>\n",
       "</div>"
      ],
      "text/plain": [
       "        budget                                             genres      id  \\\n",
       "546   74000000     ['Family', 'Animation', 'Adventure', 'Comedy']  211672   \n",
       "788   58000000                  ['Action', 'Adventure', 'Comedy']  293660   \n",
       "94   170000000         ['Action', 'Science Fiction', 'Adventure']  118340   \n",
       "127  150000000  ['Action', 'Adventure', 'Science Fiction', 'Th...   76341   \n",
       "199  140000000                 ['Adventure', 'Fantasy', 'Action']      22   \n",
       "\n",
       "     popularity                            production_countries release_date  \\\n",
       "546  875.581305                    ['United States of America']   2015-06-17   \n",
       "788  514.569956                    ['United States of America']   2016-02-09   \n",
       "94   481.098624  ['United Kingdom', 'United States of America']   2014-07-30   \n",
       "127  434.278564       ['Australia', 'United States of America']   2015-05-13   \n",
       "199  271.972889                    ['United States of America']   2003-07-09   \n",
       "\n",
       "        revenue  runtime spoken_languages  \\\n",
       "546  1156730962     91.0      ['English']   \n",
       "788   783112979    108.0      ['English']   \n",
       "94    773328629    121.0      ['English']   \n",
       "127   378858340    120.0      ['English']   \n",
       "199   655011224    143.0      ['English']   \n",
       "\n",
       "                                                 title  vote_average  \\\n",
       "546                                            Minions           6.4   \n",
       "788                                           Deadpool           7.4   \n",
       "94                             Guardians of the Galaxy           7.9   \n",
       "127                                 Mad Max: Fury Road           7.2   \n",
       "199  Pirates of the Caribbean: The Curse of the Bla...           7.5   \n",
       "\n",
       "     vote_count  Year  \n",
       "546        4571  2015  \n",
       "788       10995  2016  \n",
       "94         9742  2014  \n",
       "127        9427  2015  \n",
       "199        6985  2003  "
      ]
     },
     "execution_count": 14,
     "metadata": {},
     "output_type": "execute_result"
    }
   ],
   "source": [
    "movies_df.sort_values(by='popularity',ascending=False).head()"
   ]
  },
  {
   "cell_type": "code",
   "execution_count": 20,
   "metadata": {},
   "outputs": [
    {
     "data": {
      "text/html": [
       "<div>\n",
       "<style scoped>\n",
       "    .dataframe tbody tr th:only-of-type {\n",
       "        vertical-align: middle;\n",
       "    }\n",
       "\n",
       "    .dataframe tbody tr th {\n",
       "        vertical-align: top;\n",
       "    }\n",
       "\n",
       "    .dataframe thead th {\n",
       "        text-align: right;\n",
       "    }\n",
       "</style>\n",
       "<table border=\"1\" class=\"dataframe\">\n",
       "  <thead>\n",
       "    <tr style=\"text-align: right;\">\n",
       "      <th></th>\n",
       "      <th>budget</th>\n",
       "      <th>genres</th>\n",
       "      <th>id</th>\n",
       "      <th>popularity</th>\n",
       "      <th>production_countries</th>\n",
       "      <th>release_date</th>\n",
       "      <th>revenue</th>\n",
       "      <th>runtime</th>\n",
       "      <th>spoken_languages</th>\n",
       "      <th>title</th>\n",
       "      <th>vote_average</th>\n",
       "      <th>vote_count</th>\n",
       "      <th>Year</th>\n",
       "      <th>profit</th>\n",
       "    </tr>\n",
       "  </thead>\n",
       "  <tbody>\n",
       "    <tr>\n",
       "      <th>7</th>\n",
       "      <td>280000000</td>\n",
       "      <td>['Action', 'Adventure', 'Science Fiction']</td>\n",
       "      <td>99861</td>\n",
       "      <td>134.279229</td>\n",
       "      <td>['United States of America']</td>\n",
       "      <td>2015-04-22</td>\n",
       "      <td>1405403694</td>\n",
       "      <td>141.0</td>\n",
       "      <td>['English']</td>\n",
       "      <td>Avengers: Age of Ultron</td>\n",
       "      <td>7.3</td>\n",
       "      <td>6767</td>\n",
       "      <td>2015</td>\n",
       "      <td>1125403694</td>\n",
       "    </tr>\n",
       "    <tr>\n",
       "      <th>19</th>\n",
       "      <td>250000000</td>\n",
       "      <td>['Action', 'Adventure', 'Fantasy']</td>\n",
       "      <td>122917</td>\n",
       "      <td>120.965743</td>\n",
       "      <td>['New Zealand', 'United States of America']</td>\n",
       "      <td>2014-12-10</td>\n",
       "      <td>956019788</td>\n",
       "      <td>144.0</td>\n",
       "      <td>['English']</td>\n",
       "      <td>The Hobbit: The Battle of the Five Armies</td>\n",
       "      <td>7.1</td>\n",
       "      <td>4760</td>\n",
       "      <td>2014</td>\n",
       "      <td>706019788</td>\n",
       "    </tr>\n",
       "    <tr>\n",
       "      <th>46</th>\n",
       "      <td>250000000</td>\n",
       "      <td>['Action', 'Adventure', 'Fantasy', 'Science Fi...</td>\n",
       "      <td>127585</td>\n",
       "      <td>118.078691</td>\n",
       "      <td>['United Kingdom', 'United States of America']</td>\n",
       "      <td>2014-05-15</td>\n",
       "      <td>747862775</td>\n",
       "      <td>131.0</td>\n",
       "      <td>['English']</td>\n",
       "      <td>X-Men: Days of Future Past</td>\n",
       "      <td>7.5</td>\n",
       "      <td>6032</td>\n",
       "      <td>2014</td>\n",
       "      <td>497862775</td>\n",
       "    </tr>\n",
       "    <tr>\n",
       "      <th>47</th>\n",
       "      <td>190000000</td>\n",
       "      <td>['Action', 'Adventure', 'Science Fiction']</td>\n",
       "      <td>54138</td>\n",
       "      <td>78.291018</td>\n",
       "      <td>['United States of America']</td>\n",
       "      <td>2013-05-05</td>\n",
       "      <td>467365246</td>\n",
       "      <td>132.0</td>\n",
       "      <td>['English']</td>\n",
       "      <td>Star Trek Into Darkness</td>\n",
       "      <td>7.4</td>\n",
       "      <td>4418</td>\n",
       "      <td>2013</td>\n",
       "      <td>277365246</td>\n",
       "    </tr>\n",
       "    <tr>\n",
       "      <th>57</th>\n",
       "      <td>180000000</td>\n",
       "      <td>['Animation', 'Family']</td>\n",
       "      <td>10681</td>\n",
       "      <td>66.390712</td>\n",
       "      <td>['United States of America']</td>\n",
       "      <td>2008-06-22</td>\n",
       "      <td>521311860</td>\n",
       "      <td>98.0</td>\n",
       "      <td>['English']</td>\n",
       "      <td>WALL·E</td>\n",
       "      <td>7.8</td>\n",
       "      <td>6296</td>\n",
       "      <td>2008</td>\n",
       "      <td>341311860</td>\n",
       "    </tr>\n",
       "    <tr>\n",
       "      <th>...</th>\n",
       "      <td>...</td>\n",
       "      <td>...</td>\n",
       "      <td>...</td>\n",
       "      <td>...</td>\n",
       "      <td>...</td>\n",
       "      <td>...</td>\n",
       "      <td>...</td>\n",
       "      <td>...</td>\n",
       "      <td>...</td>\n",
       "      <td>...</td>\n",
       "      <td>...</td>\n",
       "      <td>...</td>\n",
       "      <td>...</td>\n",
       "      <td>...</td>\n",
       "    </tr>\n",
       "    <tr>\n",
       "      <th>4695</th>\n",
       "      <td>180000</td>\n",
       "      <td>['Drama', 'Comedy', 'Family']</td>\n",
       "      <td>21334</td>\n",
       "      <td>7.072118</td>\n",
       "      <td>['Iran']</td>\n",
       "      <td>1997-08-01</td>\n",
       "      <td>900000</td>\n",
       "      <td>89.0</td>\n",
       "      <td>['فارسی']</td>\n",
       "      <td>Children of Heaven</td>\n",
       "      <td>7.8</td>\n",
       "      <td>112</td>\n",
       "      <td>1997</td>\n",
       "      <td>720000</td>\n",
       "    </tr>\n",
       "    <tr>\n",
       "      <th>4696</th>\n",
       "      <td>8000</td>\n",
       "      <td>['Drama', 'Romance']</td>\n",
       "      <td>79120</td>\n",
       "      <td>1.041254</td>\n",
       "      <td>['United Kingdom']</td>\n",
       "      <td>2011-09-22</td>\n",
       "      <td>469947</td>\n",
       "      <td>96.0</td>\n",
       "      <td>['English']</td>\n",
       "      <td>Weekend</td>\n",
       "      <td>7.4</td>\n",
       "      <td>163</td>\n",
       "      <td>2011</td>\n",
       "      <td>461947</td>\n",
       "    </tr>\n",
       "    <tr>\n",
       "      <th>4704</th>\n",
       "      <td>160000</td>\n",
       "      <td>['Drama', 'Music', 'Romance']</td>\n",
       "      <td>5723</td>\n",
       "      <td>19.052179</td>\n",
       "      <td>['Ireland']</td>\n",
       "      <td>2007-03-23</td>\n",
       "      <td>20710513</td>\n",
       "      <td>85.0</td>\n",
       "      <td>['English']</td>\n",
       "      <td>Once</td>\n",
       "      <td>7.3</td>\n",
       "      <td>453</td>\n",
       "      <td>2007</td>\n",
       "      <td>20550513</td>\n",
       "    </tr>\n",
       "    <tr>\n",
       "      <th>4738</th>\n",
       "      <td>60000</td>\n",
       "      <td>['Mystery', 'Drama', 'Thriller']</td>\n",
       "      <td>473</td>\n",
       "      <td>27.788067</td>\n",
       "      <td>['United States of America']</td>\n",
       "      <td>1998-07-10</td>\n",
       "      <td>3221152</td>\n",
       "      <td>84.0</td>\n",
       "      <td>['English']</td>\n",
       "      <td>Pi</td>\n",
       "      <td>7.1</td>\n",
       "      <td>586</td>\n",
       "      <td>1998</td>\n",
       "      <td>3161152</td>\n",
       "    </tr>\n",
       "    <tr>\n",
       "      <th>4773</th>\n",
       "      <td>27000</td>\n",
       "      <td>['Comedy']</td>\n",
       "      <td>2292</td>\n",
       "      <td>19.748658</td>\n",
       "      <td>['United States of America']</td>\n",
       "      <td>1994-09-13</td>\n",
       "      <td>3151130</td>\n",
       "      <td>92.0</td>\n",
       "      <td>['English']</td>\n",
       "      <td>Clerks</td>\n",
       "      <td>7.4</td>\n",
       "      <td>755</td>\n",
       "      <td>1994</td>\n",
       "      <td>3124130</td>\n",
       "    </tr>\n",
       "  </tbody>\n",
       "</table>\n",
       "<p>473 rows × 14 columns</p>\n",
       "</div>"
      ],
      "text/plain": [
       "         budget                                             genres      id  \\\n",
       "7     280000000         ['Action', 'Adventure', 'Science Fiction']   99861   \n",
       "19    250000000                 ['Action', 'Adventure', 'Fantasy']  122917   \n",
       "46    250000000  ['Action', 'Adventure', 'Fantasy', 'Science Fi...  127585   \n",
       "47    190000000         ['Action', 'Adventure', 'Science Fiction']   54138   \n",
       "57    180000000                            ['Animation', 'Family']   10681   \n",
       "...         ...                                                ...     ...   \n",
       "4695     180000                      ['Drama', 'Comedy', 'Family']   21334   \n",
       "4696       8000                               ['Drama', 'Romance']   79120   \n",
       "4704     160000                      ['Drama', 'Music', 'Romance']    5723   \n",
       "4738      60000                   ['Mystery', 'Drama', 'Thriller']     473   \n",
       "4773      27000                                         ['Comedy']    2292   \n",
       "\n",
       "      popularity                            production_countries release_date  \\\n",
       "7     134.279229                    ['United States of America']   2015-04-22   \n",
       "19    120.965743     ['New Zealand', 'United States of America']   2014-12-10   \n",
       "46    118.078691  ['United Kingdom', 'United States of America']   2014-05-15   \n",
       "47     78.291018                    ['United States of America']   2013-05-05   \n",
       "57     66.390712                    ['United States of America']   2008-06-22   \n",
       "...          ...                                             ...          ...   \n",
       "4695    7.072118                                        ['Iran']   1997-08-01   \n",
       "4696    1.041254                              ['United Kingdom']   2011-09-22   \n",
       "4704   19.052179                                     ['Ireland']   2007-03-23   \n",
       "4738   27.788067                    ['United States of America']   1998-07-10   \n",
       "4773   19.748658                    ['United States of America']   1994-09-13   \n",
       "\n",
       "         revenue  runtime spoken_languages  \\\n",
       "7     1405403694    141.0      ['English']   \n",
       "19     956019788    144.0      ['English']   \n",
       "46     747862775    131.0      ['English']   \n",
       "47     467365246    132.0      ['English']   \n",
       "57     521311860     98.0      ['English']   \n",
       "...          ...      ...              ...   \n",
       "4695      900000     89.0        ['فارسی']   \n",
       "4696      469947     96.0      ['English']   \n",
       "4704    20710513     85.0      ['English']   \n",
       "4738     3221152     84.0      ['English']   \n",
       "4773     3151130     92.0      ['English']   \n",
       "\n",
       "                                          title  vote_average  vote_count  \\\n",
       "7                       Avengers: Age of Ultron           7.3        6767   \n",
       "19    The Hobbit: The Battle of the Five Armies           7.1        4760   \n",
       "46                   X-Men: Days of Future Past           7.5        6032   \n",
       "47                      Star Trek Into Darkness           7.4        4418   \n",
       "57                                       WALL·E           7.8        6296   \n",
       "...                                         ...           ...         ...   \n",
       "4695                         Children of Heaven           7.8         112   \n",
       "4696                                    Weekend           7.4         163   \n",
       "4704                                       Once           7.3         453   \n",
       "4738                                         Pi           7.1         586   \n",
       "4773                                     Clerks           7.4         755   \n",
       "\n",
       "      Year      profit  \n",
       "7     2015  1125403694  \n",
       "19    2014   706019788  \n",
       "46    2014   497862775  \n",
       "47    2013   277365246  \n",
       "57    2008   341311860  \n",
       "...    ...         ...  \n",
       "4695  1997      720000  \n",
       "4696  2011      461947  \n",
       "4704  2007    20550513  \n",
       "4738  1998     3161152  \n",
       "4773  1994     3124130  \n",
       "\n",
       "[473 rows x 14 columns]"
      ]
     },
     "execution_count": 20,
     "metadata": {},
     "output_type": "execute_result"
    }
   ],
   "source": [
    "# Code here\n",
    "movies_df[movies_df.vote_average > 7]\n"
   ]
  },
  {
   "cell_type": "markdown",
   "metadata": {},
   "source": [
    "#### Which year did we have the most profitable movies?\n",
    "This will help to raise some deeper questions about the years when movies didn’t do well. These are preliminary questions which give rise to questions providing deeper insights."
   ]
  },
  {
   "cell_type": "code",
   "execution_count": 18,
   "metadata": {},
   "outputs": [
    {
     "data": {
      "image/png": "[encoded data removed]",
      "text/plain": [
       "<Figure size 576x360 with 1 Axes>"
      ]
     },
     "metadata": {
      "needs_background": "light"
     },
     "output_type": "display_data"
    }
   ],
   "source": [
    "year_df = movies_df\n",
    "\n",
    "new_sum_column = year_df['revenue'] - year_df['budget']\n",
    "year_df['profit'] = new_sum_column\n",
    "\n",
    "year_profit = year_df.groupby(['Year'])['profit'].sum()\n",
    "\n",
    "year_profit.plot(figsize=(8, 5)) \n",
    "plt.xlabel('Year', fontsize=12)\n",
    "plt.ylabel('Billion', fontsize=12)\n",
    "plt.show()\n"
   ]
  },
  {
   "cell_type": "code",
   "execution_count": null,
   "metadata": {},
   "outputs": [],
   "source": [
    "\n"
   ]
  },
  {
   "cell_type": "code",
   "execution_count": 37,
   "metadata": {},
   "outputs": [
    {
     "ename": "NameError",
     "evalue": "name 'genre_df' is not defined",
     "output_type": "error",
     "traceback": [
      "\u001b[1;31m---------------------------------------------------------------------------\u001b[0m",
      "\u001b[1;31mNameError\u001b[0m                                 Traceback (most recent call last)",
      "Input \u001b[1;32mIn [37]\u001b[0m, in \u001b[0;36m<cell line: 1>\u001b[1;34m()\u001b[0m\n\u001b[1;32m----> 1\u001b[0m split_data \u001b[38;5;241m=\u001b[39m \u001b[43mgenre_df\u001b[49m[\u001b[38;5;124m'\u001b[39m\u001b[38;5;124mgenres\u001b[39m\u001b[38;5;124m'\u001b[39m]\u001b[38;5;241m.\u001b[39mstr\u001b[38;5;241m.\u001b[39msplit(\u001b[38;5;124m'\u001b[39m\u001b[38;5;124m, \u001b[39m\u001b[38;5;124m'\u001b[39m)\n\u001b[0;32m      2\u001b[0m data \u001b[38;5;241m=\u001b[39m split_data\u001b[38;5;241m.\u001b[39mto_list()\n\u001b[0;32m      3\u001b[0m data\n",
      "\u001b[1;31mNameError\u001b[0m: name 'genre_df' is not defined"
     ]
    }
   ],
   "source": [
    "split_data = genre_df['genres'].str.split(', ')\n",
    "data = split_data.to_list()\n",
    "data\n",
    "\n",
    "names = ['genre_1', 'genre_2', 'genre_3', 'genre_4', 'genre_5', 'genre_6']\n",
    "genre_col_df = pd.DataFrame(data, columns=names)\n",
    "genre_col_df"
   ]
  },
  {
   "cell_type": "markdown",
   "metadata": {},
   "source": [
    "#### Most successful genres — create a bar plot explaining the frequency of movies in each genre."
   ]
  },
  {
   "cell_type": "code",
   "execution_count": 21,
   "metadata": {},
   "outputs": [
    {
     "data": {
      "text/plain": [
       "Text(0.5, 1.0, 'Genre With Highest Movie Count')"
      ]
     },
     "execution_count": 21,
     "metadata": {},
     "output_type": "execute_result"
    },
    {
     "data": {
      "image/png": "[encoded data removed]",
      "text/plain": [
       "<Figure size 720x576 with 1 Axes>"
      ]
     },
     "metadata": {
      "needs_background": "light"
     },
     "output_type": "display_data"
    }
   ],
   "source": [
    "\n",
    "new = movies_df['genres'].value_counts()\n",
    "viz = new.nlargest(10)\n",
    "\n",
    "viz.plot(kind='barh', figsize=(10,8))\n",
    "plt.title('Genre With Highest Movie Count')"
   ]
  },
  {
   "cell_type": "code",
   "execution_count": null,
   "metadata": {},
   "outputs": [],
   "source": [
    "#### Generate three different interesting visualisations with a data story."
   ]
  },
  {
   "cell_type": "code",
   "execution_count": 33,
   "metadata": {},
   "outputs": [
    {
     "name": "stdout",
     "output_type": "stream",
     "text": [
      "spoken_languages\n",
      "['English']                1586\n",
      "['English', 'Español']       68\n",
      "['English', 'Français']      64\n",
      "['Español', 'English']       32\n",
      "['English', 'Italiano']      26\n",
      "Name: spoken_languages, dtype: int64\n"
     ]
    },
    {
     "data": {
      "image/png": "[encoded data removed]",
      "text/plain": [
       "<Figure size 432x432 with 1 Axes>"
      ]
     },
     "metadata": {},
     "output_type": "display_data"
    }
   ],
   "source": [
    "genres_count = movies_df.groupby('spoken_languages')['spoken_languages'].count()\n",
    "genres_count = genres_count.sort_values(ascending=False)\n",
    "genres_count = genres_count.iloc[:5]\n",
    "# Displaying totals.\n",
    "print(genres_count )\n",
    "\n",
    "# 'autopct' displays the percentages on the chart\n",
    "plt.figure(figsize=(6,6))\n",
    "plt.title('Top 5 Spoken_Languages')\n",
    "plt.pie(genres_count.values, labels=genres_count.index,autopct='%1.1f%%', textprops={'fontsize':16})\n",
    "plt.show()\n",
    "\n"
   ]
  },
  {
   "cell_type": "markdown",
   "metadata": {},
   "source": [
    "The above pie chart shows that English is the overwhelming spoken language for the movies"
   ]
  },
  {
   "cell_type": "code",
   "execution_count": 36,
   "metadata": {},
   "outputs": [
    {
     "data": {
      "image/png": "[encoded data removed]",
      "text/plain": [
       "<Figure size 576x360 with 1 Axes>"
      ]
     },
     "metadata": {
      "needs_background": "light"
     },
     "output_type": "display_data"
    }
   ],
   "source": [
    "year_df = movies_df\n",
    "year_revenue = year_df.groupby(['Year'])['revenue'].sum()\n",
    "year_revenue.plot(figsize=(8, 5)) \n",
    "plt.xlabel('Year', fontsize=12)\n",
    "plt.ylabel('Billion', fontsize=12)\n",
    "plt.show()\n"
   ]
  },
  {
   "cell_type": "markdown",
   "metadata": {},
   "source": [
    "The above line graph show a large increase in revenue from around 1990 till around 2019 and then a big drop after 2019, possibly due to covid."
   ]
  },
  {
   "cell_type": "code",
   "execution_count": 41,
   "metadata": {},
   "outputs": [
    {
     "data": {
      "image/png": "[encoded data removed]",
      "text/plain": [
       "<Figure size 432x288 with 1 Axes>"
      ]
     },
     "metadata": {
      "needs_background": "light"
     },
     "output_type": "display_data"
    }
   ],
   "source": [
    "x = movies_df['budget'].values\n",
    "y = movies_df['popularity'].values\n",
    "\n",
    "plt.scatter(x,y,color = 'b')\n",
    "plt.xlabel('Budget')\n",
    "plt.ylabel('Popularity')\n",
    "plt.show()"
   ]
  },
  {
   "cell_type": "markdown",
   "metadata": {},
   "source": [
    "Scatter plot shows that there is a slight correlation between budget size and popularity of the movie."
   ]
  },
  {
   "cell_type": "markdown",
   "metadata": {},
   "source": [
    "# Now that you know how to Explore a Dataset, it's time for you to do it from start to end. Please find the Automobile Dataset in your task folder. \n",
    "\n",
    "### You are expected to create a report ('eda.docx' provides a template for what this report should look like) in which you explain your visualisations, investigations and findings. The Code for the Analysis should be in a jupyter notebook named automobile.ipynb.\n",
    "\n",
    "## Be creative :)"
   ]
  },
  {
   "cell_type": "code",
   "execution_count": 18,
   "metadata": {},
   "outputs": [
    {
     "name": "stderr",
     "output_type": "stream",
     "text": [
      "UsageError: Line magic function `%` not found.\n"
     ]
    }
   ],
   "source": [
    "import numpy as np\n",
    "import pandas as pd\n",
    "import seaborn as sns\n",
    "import ast, json\n",
    "\n",
    "from datetime import datetime\n",
    "import matplotlib.pyplot as plt\n",
    "% matplotlib inline\n"
   ]
  },
  {
   "cell_type": "code",
   "execution_count": 19,
   "metadata": {},
   "outputs": [
    {
     "name": "stdout",
     "output_type": "stream",
     "text": [
      "Index(['symboling', 'normalized-losses', 'make', 'fuel-type', 'aspiration',\n",
      "       'num-of-doors', 'body-style', 'drive-wheels', 'engine-location',\n",
      "       'wheel-base', 'length', 'width', 'height', 'curb-weight', 'engine-type',\n",
      "       'num-of-cylinders', 'engine-size', 'fuel-system', 'bore', 'stroke',\n",
      "       'compression-ratio', 'horsepower', 'peak-rpm', 'city-mpg',\n",
      "       'highway-mpg', 'price'],\n",
      "      dtype='object')\n"
     ]
    }
   ],
   "source": [
    "cars_df = pd.read_table(\"automobile.txt\", sep=',')\n",
    "cars_df = pd.DataFrame(cars_df)\n",
    "print(cars_df.columns)\n"
   ]
  },
  {
   "cell_type": "code",
   "execution_count": null,
   "metadata": {},
   "outputs": [],
   "source": [
    "cars_df.head(15)\n"
   ]
  },
  {
   "cell_type": "code",
   "execution_count": 23,
   "metadata": {
    "scrolled": true
   },
   "outputs": [
    {
     "data": {
      "text/plain": [
       "array(['mpfi', '2bbl', 'mfi', '1bbl', 'spfi', '4bbl', 'idi', 'spdi'],\n",
       "      dtype=object)"
      ]
     },
     "execution_count": 23,
     "metadata": {},
     "output_type": "execute_result"
    }
   ],
   "source": [
    "cars_df[\"fuel-system\"].unique()"
   ]
  },
  {
   "cell_type": "code",
   "execution_count": 20,
   "metadata": {},
   "outputs": [
    {
     "data": {
      "text/plain": [
       "array(['gas', 'diesel'], dtype=object)"
      ]
     },
     "execution_count": 20,
     "metadata": {},
     "output_type": "execute_result"
    }
   ],
   "source": [
    "cars_df[\"fuel-type\"].unique()"
   ]
  },
  {
   "cell_type": "code",
   "execution_count": 22,
   "metadata": {},
   "outputs": [
    {
     "data": {
      "text/plain": [
       "array(['front', 'rear'], dtype=object)"
      ]
     },
     "execution_count": 22,
     "metadata": {},
     "output_type": "execute_result"
    }
   ],
   "source": [
    "cars_df[\"engine-location\"].unique()"
   ]
  },
  {
   "cell_type": "code",
   "execution_count": null,
   "metadata": {},
   "outputs": [],
   "source": []
  },
  {
   "cell_type": "code",
   "execution_count": null,
   "metadata": {},
   "outputs": [],
   "source": []
  }
 ],
 "metadata": {
  "kernelspec": {
   "display_name": "Python 3 (ipykernel)",
   "language": "python",
   "name": "python3"
  },
  "language_info": {
   "codemirror_mode": {
    "name": "ipython",
    "version": 3
   },
   "file_extension": ".py",
   "mimetype": "text/x-python",
   "name": "python",
   "nbconvert_exporter": "python",
   "pygments_lexer": "ipython3",
   "version": "3.10.5"
  }
 },
 "nbformat": 4,
 "nbformat_minor": 2
}
